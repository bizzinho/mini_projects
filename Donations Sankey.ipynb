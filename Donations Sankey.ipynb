{
 "cells": [
  {
   "cell_type": "code",
   "execution_count": 1,
   "metadata": {},
   "outputs": [],
   "source": [
    "from ipysankeywidget import SankeyWidget\n",
    "import pandas as pd\n",
    "from ipywidgets import Layout\n",
    "from IPython.display import (\n",
    "    Image,\n",
    "    SVG\n",
    ")"
   ]
  },
  {
   "cell_type": "code",
   "execution_count": 43,
   "metadata": {},
   "outputs": [],
   "source": [
    "donations = pd.read_excel('C:/Users/dochsenb/Desktop/private/SPLdata/SPL donations.xlsx',sheetname=1)"
   ]
  },
  {
   "cell_type": "code",
   "execution_count": 44,
   "metadata": {},
   "outputs": [],
   "source": [
    "donations['sum'] = donations.sum(axis=1)"
   ]
  },
  {
   "cell_type": "code",
   "execution_count": null,
   "metadata": {},
   "outputs": [],
   "source": []
  },
  {
   "cell_type": "code",
   "execution_count": 48,
   "metadata": {},
   "outputs": [],
   "source": [
    "donations = donations.sort_values(by=['sum','OTHER','Water Purification for Africa','Education in India (Asha)','GHG Offsetting via Malawi water access restoration'],ascending=[False,True,False,False,False]).reset_index(drop=True)"
   ]
  },
  {
   "cell_type": "code",
   "execution_count": 58,
   "metadata": {},
   "outputs": [],
   "source": [
    "links =[]\n",
    "for row in donations.itertuples():\n",
    "    links.extend([dict(source=row[1],target='Water Purification',value=row[2],type='x',color='blue'),\n",
    "                  dict(source=row[1],target='GHG Offsetting',value=row[3],type='y',color='green'),\n",
    "                  dict(source=row[1],target='Asha',value=row[4],type='z',color='red'),\n",
    "                  dict(source=row[1],target='Other',value=row[5],type='w',color='gray')]\n",
    "    )\n",
    "order = [donations['Name'].tolist(),['Water Purification','Asha','GHG Offsetting','Other']]\n",
    "#groups = [{'position':'left','id':'BS','title':'The 99%','nodes':donations[donations['sum'] > 100].index.tolist()},\n",
    "#         {'position':'left','id':'MC','title':'The middle class','nodes':donations[donations['sum'] == 100].index.tolist()},\n",
    "#         {'position':'left','id':'JAM','title':'The JAMs','nodes':donations[(donations['sum'] == 50) & (donations['OTHER']==0)].index.tolist()},\n",
    "#         {'position':'left','id':'SF','title':'The Snowflakes','nodes':donations[(donations['OTHER']==50)].index.tolist()}]"
   ]
  },
  {
   "cell_type": "code",
   "execution_count": 59,
   "metadata": {
    "scrolled": false
   },
   "outputs": [
    {
     "data": {
      "application/vnd.jupyter.widget-view+json": {
       "model_id": "dff9772d88364048864d2b5dd87d890e",
       "version_major": 2,
       "version_minor": 0
      },
      "text/html": [
       "<p>Failed to display Jupyter Widget of type <code>SankeyWidget</code>.</p>\n",
       "<p>\n",
       "  If you're reading this message in the Jupyter Notebook or JupyterLab Notebook, it may mean\n",
       "  that the widgets JavaScript is still loading. If this message persists, it\n",
       "  likely means that the widgets JavaScript library is either not installed or\n",
       "  not enabled. See the <a href=\"https://ipywidgets.readthedocs.io/en/stable/user_install.html\">Jupyter\n",
       "  Widgets Documentation</a> for setup instructions.\n",
       "</p>\n",
       "<p>\n",
       "  If you're reading this message in another frontend (for example, a static\n",
       "  rendering on GitHub or <a href=\"https://nbviewer.jupyter.org/\">NBViewer</a>),\n",
       "  it may mean that your frontend doesn't currently support widgets.\n",
       "</p>\n"
      ],
      "text/plain": [
       "SankeyWidget(layout=Layout(height='1000', width='1000'), links=[{'target': 'Water Purification', 'value': 50.0, 'source': 'Cristiano', 'color': 'blue', 'type': 'x'}, {'target': 'GHG Offsetting', 'value': 50.0, 'source': 'Cristiano', 'color': 'green', 'type': 'y'}, {'target': 'Asha', 'value': 50.0, 'source': 'Cristiano', 'color': 'red', 'type': 'z'}, {'target': 'Other', 'value': 0, 'source': 'Cristiano', 'color': 'gray', 'type': 'w'}, {'target': 'Water Purification', 'value': 50.0, 'source': 'Matteo S', 'color': 'blue', 'type': 'x'}, {'target': 'GHG Offsetting', 'value': 50.0, 'source': 'Matteo S', 'color': 'green', 'type': 'y'}, {'target': 'Asha', 'value': 50.0, 'source': 'Matteo S', 'color': 'red', 'type': 'z'}, {'target': 'Other', 'value': 0, 'source': 'Matteo S', 'color': 'gray', 'type': 'w'}, {'target': 'Water Purification', 'value': 50.0, 'source': 'Markus', 'color': 'blue', 'type': 'x'}, {'target': 'GHG Offsetting', 'value': 50.0, 'source': 'Markus', 'color': 'green', 'type': 'y'}, {'target': 'Asha', 'value': 50.0, 'source': 'Markus', 'color': 'red', 'type': 'z'}, {'target': 'Other', 'value': 0, 'source': 'Markus', 'color': 'gray', 'type': 'w'}, {'target': 'Water Purification', 'value': 50.0, 'source': 'Ronny', 'color': 'blue', 'type': 'x'}, {'target': 'GHG Offsetting', 'value': 37.0, 'source': 'Ronny', 'color': 'green', 'type': 'y'}, {'target': 'Asha', 'value': 50.0, 'source': 'Ronny', 'color': 'red', 'type': 'z'}, {'target': 'Other', 'value': 0, 'source': 'Ronny', 'color': 'gray', 'type': 'w'}, {'target': 'Water Purification', 'value': 50.0, 'source': 'Lorenzo', 'color': 'blue', 'type': 'x'}, {'target': 'GHG Offsetting', 'value': 0.0, 'source': 'Lorenzo', 'color': 'green', 'type': 'y'}, {'target': 'Asha', 'value': 50.0, 'source': 'Lorenzo', 'color': 'red', 'type': 'z'}, {'target': 'Other', 'value': 0, 'source': 'Lorenzo', 'color': 'gray', 'type': 'w'}, {'target': 'Water Purification', 'value': 50.0, 'source': 'Dave', 'color': 'blue', 'type': 'x'}, {'target': 'GHG Offsetting', 'value': 8.0, 'source': 'Dave', 'color': 'green', 'type': 'y'}, {'target': 'Asha', 'value': 42.0, 'source': 'Dave', 'color': 'red', 'type': 'z'}, {'target': 'Other', 'value': 0, 'source': 'Dave', 'color': 'gray', 'type': 'w'}, {'target': 'Water Purification', 'value': 40.0, 'source': 'Alba', 'color': 'blue', 'type': 'x'}, {'target': 'GHG Offsetting', 'value': 20.0, 'source': 'Alba', 'color': 'green', 'type': 'y'}, {'target': 'Asha', 'value': 40.0, 'source': 'Alba', 'color': 'red', 'type': 'z'}, {'target': 'Other', 'value': 0, 'source': 'Alba', 'color': 'gray', 'type': 'w'}, {'target': 'Water Purification', 'value': 30.0, 'source': 'Nathalie', 'color': 'blue', 'type': 'x'}, {'target': 'GHG Offsetting', 'value': 35.0, 'source': 'Nathalie', 'color': 'green', 'type': 'y'}, {'target': 'Asha', 'value': 35.0, 'source': 'Nathalie', 'color': 'red', 'type': 'z'}, {'target': 'Other', 'value': 0, 'source': 'Nathalie', 'color': 'gray', 'type': 'w'}, {'target': 'Water Purification', 'value': 25.0, 'source': 'Johannes K.', 'color': 'blue', 'type': 'x'}, {'target': 'GHG Offsetting', 'value': 25.0, 'source': 'Johannes K.', 'color': 'green', 'type': 'y'}, {'target': 'Asha', 'value': 50.0, 'source': 'Johannes K.', 'color': 'red', 'type': 'z'}, {'target': 'Other', 'value': 0, 'source': 'Johannes K.', 'color': 'gray', 'type': 'w'}, {'target': 'Water Purification', 'value': 0.0, 'source': 'Daniel', 'color': 'blue', 'type': 'x'}, {'target': 'GHG Offsetting', 'value': 50.0, 'source': 'Daniel', 'color': 'green', 'type': 'y'}, {'target': 'Asha', 'value': 50.0, 'source': 'Daniel', 'color': 'red', 'type': 'z'}, {'target': 'Other', 'value': 0, 'source': 'Daniel', 'color': 'gray', 'type': 'w'}, {'target': 'Water Purification', 'value': 50.0, 'source': 'Brigitta', 'color': 'blue', 'type': 'x'}, {'target': 'GHG Offsetting', 'value': 0.0, 'source': 'Brigitta', 'color': 'green', 'type': 'y'}, {'target': 'Asha', 'value': 0.0, 'source': 'Brigitta', 'color': 'red', 'type': 'z'}, {'target': 'Other', 'value': 0, 'source': 'Brigitta', 'color': 'gray', 'type': 'w'}, {'target': 'Water Purification', 'value': 50.0, 'source': 'Valentina', 'color': 'blue', 'type': 'x'}, {'target': 'GHG Offsetting', 'value': 0.0, 'source': 'Valentina', 'color': 'green', 'type': 'y'}, {'target': 'Asha', 'value': 0.0, 'source': 'Valentina', 'color': 'red', 'type': 'z'}, {'target': 'Other', 'value': 0, 'source': 'Valentina', 'color': 'gray', 'type': 'w'}, {'target': 'Water Purification', 'value': 25.0, 'source': 'Elena', 'color': 'blue', 'type': 'x'}, {'target': 'GHG Offsetting', 'value': 0.0, 'source': 'Elena', 'color': 'green', 'type': 'y'}, {'target': 'Asha', 'value': 25.0, 'source': 'Elena', 'color': 'red', 'type': 'z'}, {'target': 'Other', 'value': 0, 'source': 'Elena', 'color': 'gray', 'type': 'w'}, {'target': 'Water Purification', 'value': 25.0, 'source': 'Thes', 'color': 'blue', 'type': 'x'}, {'target': 'GHG Offsetting', 'value': 0.0, 'source': 'Thes', 'color': 'green', 'type': 'y'}, {'target': 'Asha', 'value': 25.0, 'source': 'Thes', 'color': 'red', 'type': 'z'}, {'target': 'Other', 'value': 0, 'source': 'Thes', 'color': 'gray', 'type': 'w'}, {'target': 'Water Purification', 'value': 25.0, 'source': 'Stefan', 'color': 'blue', 'type': 'x'}, {'target': 'GHG Offsetting', 'value': 0.0, 'source': 'Stefan', 'color': 'green', 'type': 'y'}, {'target': 'Asha', 'value': 25.0, 'source': 'Stefan', 'color': 'red', 'type': 'z'}, {'target': 'Other', 'value': 0, 'source': 'Stefan', 'color': 'gray', 'type': 'w'}, {'target': 'Water Purification', 'value': 25.0, 'source': 'Martin', 'color': 'blue', 'type': 'x'}, {'target': 'GHG Offsetting', 'value': 0.0, 'source': 'Martin', 'color': 'green', 'type': 'y'}, {'target': 'Asha', 'value': 25.0, 'source': 'Martin', 'color': 'red', 'type': 'z'}, {'target': 'Other', 'value': 0, 'source': 'Martin', 'color': 'gray', 'type': 'w'}, {'target': 'Water Purification', 'value': 25.0, 'source': 'Max', 'color': 'blue', 'type': 'x'}, {'target': 'GHG Offsetting', 'value': 10.0, 'source': 'Max', 'color': 'green', 'type': 'y'}, {'target': 'Asha', 'value': 15.0, 'source': 'Max', 'color': 'red', 'type': 'z'}, {'target': 'Other', 'value': 0, 'source': 'Max', 'color': 'gray', 'type': 'w'}, {'target': 'Water Purification', 'value': 25.0, 'source': 'Paolo', 'color': 'blue', 'type': 'x'}, {'target': 'GHG Offsetting', 'value': 10.0, 'source': 'Paolo', 'color': 'green', 'type': 'y'}, {'target': 'Asha', 'value': 15.0, 'source': 'Paolo', 'color': 'red', 'type': 'z'}, {'target': 'Other', 'value': 0, 'source': 'Paolo', 'color': 'gray', 'type': 'w'}, {'target': 'Water Purification', 'value': 25.0, 'source': 'Johannes', 'color': 'blue', 'type': 'x'}, {'target': 'GHG Offsetting', 'value': 25.0, 'source': 'Johannes', 'color': 'green', 'type': 'y'}, {'target': 'Asha', 'value': 0.0, 'source': 'Johannes', 'color': 'red', 'type': 'z'}, {'target': 'Other', 'value': 0, 'source': 'Johannes', 'color': 'gray', 'type': 'w'}, {'target': 'Water Purification', 'value': 25.0, 'source': 'Mijndert', 'color': 'blue', 'type': 'x'}, {'target': 'GHG Offsetting', 'value': 25.0, 'source': 'Mijndert', 'color': 'green', 'type': 'y'}, {'target': 'Asha', 'value': 0.0, 'source': 'Mijndert', 'color': 'red', 'type': 'z'}, {'target': 'Other', 'value': 0, 'source': 'Mijndert', 'color': 'gray', 'type': 'w'}, {'target': 'Water Purification', 'value': 20.0, 'source': 'Stefano', 'color': 'blue', 'type': 'x'}, {'target': 'GHG Offsetting', 'value': 0.0, 'source': 'Stefano', 'color': 'green', 'type': 'y'}, {'target': 'Asha', 'value': 30.0, 'source': 'Stefano', 'color': 'red', 'type': 'z'}, {'target': 'Other', 'value': 0, 'source': 'Stefano', 'color': 'gray', 'type': 'w'}, {'target': 'Water Purification', 'value': 20.0, 'source': 'Arvind', 'color': 'blue', 'type': 'x'}, {'target': 'GHG Offsetting', 'value': 10.0, 'source': 'Arvind', 'color': 'green', 'type': 'y'}, {'target': 'Asha', 'value': 20.0, 'source': 'Arvind', 'color': 'red', 'type': 'z'}, {'target': 'Other', 'value': 0, 'source': 'Arvind', 'color': 'gray', 'type': 'w'}, {'target': 'Water Purification', 'value': 20.0, 'source': 'M.Huber', 'color': 'blue', 'type': 'x'}, {'target': 'GHG Offsetting', 'value': 15.0, 'source': 'M.Huber', 'color': 'green', 'type': 'y'}, {'target': 'Asha', 'value': 15.0, 'source': 'M.Huber', 'color': 'red', 'type': 'z'}, {'target': 'Other', 'value': 0, 'source': 'M.Huber', 'color': 'gray', 'type': 'w'}, {'target': 'Water Purification', 'value': 20.0, 'source': 'Paco', 'color': 'blue', 'type': 'x'}, {'target': 'GHG Offsetting', 'value': 20.0, 'source': 'Paco', 'color': 'green', 'type': 'y'}, {'target': 'Asha', 'value': 10.0, 'source': 'Paco', 'color': 'red', 'type': 'z'}, {'target': 'Other', 'value': 0, 'source': 'Paco', 'color': 'gray', 'type': 'w'}, {'target': 'Water Purification', 'value': 17.5, 'source': 'Francesca', 'color': 'blue', 'type': 'x'}, {'target': 'GHG Offsetting', 'value': 15.0, 'source': 'Francesca', 'color': 'green', 'type': 'y'}, {'target': 'Asha', 'value': 17.5, 'source': 'Francesca', 'color': 'red', 'type': 'z'}, {'target': 'Other', 'value': 0, 'source': 'Francesca', 'color': 'gray', 'type': 'w'}, {'target': 'Water Purification', 'value': 17.5, 'source': 'Franzi', 'color': 'blue', 'type': 'x'}, {'target': 'GHG Offsetting', 'value': 17.5, 'source': 'Franzi', 'color': 'green', 'type': 'y'}, {'target': 'Asha', 'value': 15.0, 'source': 'Franzi', 'color': 'red', 'type': 'z'}, {'target': 'Other', 'value': 0, 'source': 'Franzi', 'color': 'gray', 'type': 'w'}, {'target': 'Water Purification', 'value': 17.5, 'source': 'Johanna', 'color': 'blue', 'type': 'x'}, {'target': 'GHG Offsetting', 'value': 17.5, 'source': 'Johanna', 'color': 'green', 'type': 'y'}, {'target': 'Asha', 'value': 15.0, 'source': 'Johanna', 'color': 'red', 'type': 'z'}, {'target': 'Other', 'value': 0, 'source': 'Johanna', 'color': 'gray', 'type': 'w'}, {'target': 'Water Purification', 'value': 16.5, 'source': 'Maria', 'color': 'blue', 'type': 'x'}, {'target': 'GHG Offsetting', 'value': 16.5, 'source': 'Maria', 'color': 'green', 'type': 'y'}, {'target': 'Asha', 'value': 17.0, 'source': 'Maria', 'color': 'red', 'type': 'z'}, {'target': 'Other', 'value': 0, 'source': 'Maria', 'color': 'gray', 'type': 'w'}, {'target': 'Water Purification', 'value': 15.0, 'source': 'Lisa', 'color': 'blue', 'type': 'x'}, {'target': 'GHG Offsetting', 'value': 15.0, 'source': 'Lisa', 'color': 'green', 'type': 'y'}, {'target': 'Asha', 'value': 20.0, 'source': 'Lisa', 'color': 'red', 'type': 'z'}, {'target': 'Other', 'value': 0, 'source': 'Lisa', 'color': 'gray', 'type': 'w'}, {'target': 'Water Purification', 'value': 15.0, 'source': 'Janik', 'color': 'blue', 'type': 'x'}, {'target': 'GHG Offsetting', 'value': 15.0, 'source': 'Janik', 'color': 'green', 'type': 'y'}, {'target': 'Asha', 'value': 20.0, 'source': 'Janik', 'color': 'red', 'type': 'z'}, {'target': 'Other', 'value': 0, 'source': 'Janik', 'color': 'gray', 'type': 'w'}, {'target': 'Water Purification', 'value': 15.0, 'source': 'Stefan Ottiger', 'color': 'blue', 'type': 'x'}, {'target': 'GHG Offsetting', 'value': 15.0, 'source': 'Stefan Ottiger', 'color': 'green', 'type': 'y'}, {'target': 'Asha', 'value': 20.0, 'source': 'Stefan Ottiger', 'color': 'red', 'type': 'z'}, {'target': 'Other', 'value': 0, 'source': 'Stefan Ottiger', 'color': 'gray', 'type': 'w'}, {'target': 'Water Purification', 'value': 15.0, 'source': 'Jeroen', 'color': 'blue', 'type': 'x'}, {'target': 'GHG Offsetting', 'value': 15.0, 'source': 'Jeroen', 'color': 'green', 'type': 'y'}, {'target': 'Asha', 'value': 20.0, 'source': 'Jeroen', 'color': 'red', 'type': 'z'}, {'target': 'Other', 'value': 0, 'source': 'Jeroen', 'color': 'gray', 'type': 'w'}, {'target': 'Water Purification', 'value': 15.0, 'source': 'Matteo G', 'color': 'blue', 'type': 'x'}, {'target': 'GHG Offsetting', 'value': 15.0, 'source': 'Matteo G', 'color': 'green', 'type': 'y'}, {'target': 'Asha', 'value': 20.0, 'source': 'Matteo G', 'color': 'red', 'type': 'z'}, {'target': 'Other', 'value': 0, 'source': 'Matteo G', 'color': 'gray', 'type': 'w'}, {'target': 'Water Purification', 'value': 15.0, 'source': 'Michel', 'color': 'blue', 'type': 'x'}, {'target': 'GHG Offsetting', 'value': 17.5, 'source': 'Michel', 'color': 'green', 'type': 'y'}, {'target': 'Asha', 'value': 17.5, 'source': 'Michel', 'color': 'red', 'type': 'z'}, {'target': 'Other', 'value': 0, 'source': 'Michel', 'color': 'gray', 'type': 'w'}, {'target': 'Water Purification', 'value': 15.0, 'source': 'Thomas', 'color': 'blue', 'type': 'x'}, {'target': 'GHG Offsetting', 'value': 20.0, 'source': 'Thomas', 'color': 'green', 'type': 'y'}, {'target': 'Asha', 'value': 15.0, 'source': 'Thomas', 'color': 'red', 'type': 'z'}, {'target': 'Other', 'value': 0, 'source': 'Thomas', 'color': 'gray', 'type': 'w'}, {'target': 'Water Purification', 'value': 15.0, 'source': 'Dorian', 'color': 'blue', 'type': 'x'}, {'target': 'GHG Offsetting', 'value': 20.0, 'source': 'Dorian', 'color': 'green', 'type': 'y'}, {'target': 'Asha', 'value': 15.0, 'source': 'Dorian', 'color': 'red', 'type': 'z'}, {'target': 'Other', 'value': 0, 'source': 'Dorian', 'color': 'gray', 'type': 'w'}, {'target': 'Water Purification', 'value': 12.5, 'source': 'Hari', 'color': 'blue', 'type': 'x'}, {'target': 'GHG Offsetting', 'value': 12.5, 'source': 'Hari', 'color': 'green', 'type': 'y'}, {'target': 'Asha', 'value': 25.0, 'source': 'Hari', 'color': 'red', 'type': 'z'}, {'target': 'Other', 'value': 0, 'source': 'Hari', 'color': 'gray', 'type': 'w'}, {'target': 'Water Purification', 'value': 12.5, 'source': 'Ian', 'color': 'blue', 'type': 'x'}, {'target': 'GHG Offsetting', 'value': 12.5, 'source': 'Ian', 'color': 'green', 'type': 'y'}, {'target': 'Asha', 'value': 25.0, 'source': 'Ian', 'color': 'red', 'type': 'z'}, {'target': 'Other', 'value': 0, 'source': 'Ian', 'color': 'gray', 'type': 'w'}, {'target': 'Water Purification', 'value': 0.0, 'source': 'Gerhard', 'color': 'blue', 'type': 'x'}, {'target': 'GHG Offsetting', 'value': 0.0, 'source': 'Gerhard', 'color': 'green', 'type': 'y'}, {'target': 'Asha', 'value': 50.0, 'source': 'Gerhard', 'color': 'red', 'type': 'z'}, {'target': 'Other', 'value': 0, 'source': 'Gerhard', 'color': 'gray', 'type': 'w'}, {'target': 'Water Purification', 'value': 0.0, 'source': 'Mischa', 'color': 'blue', 'type': 'x'}, {'target': 'GHG Offsetting', 'value': 50.0, 'source': 'Mischa', 'color': 'green', 'type': 'y'}, {'target': 'Asha', 'value': 0.0, 'source': 'Mischa', 'color': 'red', 'type': 'z'}, {'target': 'Other', 'value': 0, 'source': 'Mischa', 'color': 'gray', 'type': 'w'}, {'target': 'Water Purification', 'value': 0.0, 'source': 'Pietro', 'color': 'blue', 'type': 'x'}, {'target': 'GHG Offsetting', 'value': 0.0, 'source': 'Pietro', 'color': 'green', 'type': 'y'}, {'target': 'Asha', 'value': 0.0, 'source': 'Pietro', 'color': 'red', 'type': 'z'}, {'target': 'Other', 'value': 50, 'source': 'Pietro', 'color': 'gray', 'type': 'w'}, {'target': 'Water Purification', 'value': 0.0, 'source': 'Cristina', 'color': 'blue', 'type': 'x'}, {'target': 'GHG Offsetting', 'value': 0.0, 'source': 'Cristina', 'color': 'green', 'type': 'y'}, {'target': 'Asha', 'value': 0.0, 'source': 'Cristina', 'color': 'red', 'type': 'z'}, {'target': 'Other', 'value': 50, 'source': 'Cristina', 'color': 'gray', 'type': 'w'}, {'target': 'Water Purification', 'value': 0.0, 'source': 'Fabio', 'color': 'blue', 'type': 'x'}, {'target': 'GHG Offsetting', 'value': 0.0, 'source': 'Fabio', 'color': 'green', 'type': 'y'}, {'target': 'Asha', 'value': 0.0, 'source': 'Fabio', 'color': 'red', 'type': 'z'}, {'target': 'Other', 'value': 50, 'source': 'Fabio', 'color': 'gray', 'type': 'w'}, {'target': 'Water Purification', 'value': 0.0, 'source': 'Luca', 'color': 'blue', 'type': 'x'}, {'target': 'GHG Offsetting', 'value': 0.0, 'source': 'Luca', 'color': 'green', 'type': 'y'}, {'target': 'Asha', 'value': 0.0, 'source': 'Luca', 'color': 'red', 'type': 'z'}, {'target': 'Other', 'value': 50, 'source': 'Luca', 'color': 'gray', 'type': 'w'}, {'target': 'Water Purification', 'value': 0.0, 'source': 'Ashwin', 'color': 'blue', 'type': 'x'}, {'target': 'GHG Offsetting', 'value': 0.0, 'source': 'Ashwin', 'color': 'green', 'type': 'y'}, {'target': 'Asha', 'value': 0.0, 'source': 'Ashwin', 'color': 'red', 'type': 'z'}, {'target': 'Other', 'value': 50, 'source': 'Ashwin', 'color': 'gray', 'type': 'w'}, {'target': 'Water Purification', 'value': 0.0, 'source': 'Federico', 'color': 'blue', 'type': 'x'}, {'target': 'GHG Offsetting', 'value': 0.0, 'source': 'Federico', 'color': 'green', 'type': 'y'}, {'target': 'Asha', 'value': 0.0, 'source': 'Federico', 'color': 'red', 'type': 'z'}, {'target': 'Other', 'value': 50, 'source': 'Federico', 'color': 'gray', 'type': 'w'}], margins={'top': 0, 'left': 1, 'bottom': 0, 'right': 120}, nodes=[{'id': 'Johannes K.'}, {'id': 'Stefano'}, {'id': 'Janik'}, {'id': 'Stefan Ottiger'}, {'id': 'Paco'}, {'id': 'Lorenzo'}, {'id': 'Asha'}, {'id': 'Cristiano'}, {'id': 'Brigitta'}, {'id': 'Fabio'}, {'id': 'Cristina'}, {'id': 'Other'}, {'id': 'Stefan'}, {'id': 'Thes'}, {'id': 'Arvind'}, {'id': 'Mijndert'}, {'id': 'Francesca'}, {'id': 'Alba'}, {'id': 'Matteo S'}, {'id': 'Max'}, {'id': 'Martin'}, {'id': 'Franzi'}, {'id': 'Valentina'}, {'id': 'Lisa'}, {'id': 'Thomas'}, {'id': 'Water Purification'}, {'id': 'GHG Offsetting'}, {'id': 'Elena'}, {'id': 'Maria'}, {'id': 'Johannes'}, {'id': 'Federico'}, {'id': 'Ronny'}, {'id': 'Daniel'}, {'id': 'Dorian'}, {'id': 'Nathalie'}, {'id': 'Jeroen'}, {'id': 'Mischa'}, {'id': 'Hari'}, {'id': 'Matteo G'}, {'id': 'Pietro'}, {'id': 'Ian'}, {'id': 'Dave'}, {'id': 'Gerhard'}, {'id': 'Paolo'}, {'id': 'Ashwin'}, {'id': 'Luca'}, {'id': 'Johanna'}, {'id': 'Michel'}, {'id': 'Markus'}, {'id': 'M.Huber'}], order=[['Cristiano', 'Matteo S', 'Markus', 'Ronny', 'Lorenzo', 'Dave', 'Alba', 'Nathalie', 'Johannes K.', 'Daniel', 'Brigitta', 'Valentina', 'Elena', 'Thes', 'Stefan', 'Martin', 'Max', 'Paolo', 'Johannes', 'Mijndert', 'Stefano', 'Arvind', 'M.Huber', 'Paco', 'Francesca', 'Franzi', 'Johanna', 'Maria', 'Lisa', 'Janik', 'Stefan Ottiger', 'Jeroen', 'Matteo G', 'Michel', 'Thomas', 'Dorian', 'Hari', 'Ian', 'Gerhard', 'Mischa', 'Pietro', 'Cristina', 'Fabio', 'Luca', 'Ashwin', 'Federico'], ['Water Purification', 'Asha', 'GHG Offsetting', 'Other']])"
      ]
     },
     "metadata": {},
     "output_type": "display_data"
    }
   ],
   "source": [
    "w = SankeyWidget(links=links, margins=dict(top=0, bottom=0, left=1, right=120),order=order,layout=Layout(width=\"1000\",height=\"1000\"))\n",
    "w"
   ]
  },
  {
   "cell_type": "code",
   "execution_count": 60,
   "metadata": {},
   "outputs": [],
   "source": [
    "w.save_svg('sankey.svg')"
   ]
  },
  {
   "cell_type": "code",
   "execution_count": null,
   "metadata": {},
   "outputs": [],
   "source": []
  }
 ],
 "metadata": {
  "anaconda-cloud": {},
  "kernelspec": {
   "display_name": "Python 3",
   "language": "python",
   "name": "python3"
  },
  "language_info": {
   "codemirror_mode": {
    "name": "ipython",
    "version": 3
   },
   "file_extension": ".py",
   "mimetype": "text/x-python",
   "name": "python",
   "nbconvert_exporter": "python",
   "pygments_lexer": "ipython3",
   "version": "3.7.0"
  }
 },
 "nbformat": 4,
 "nbformat_minor": 2
}
